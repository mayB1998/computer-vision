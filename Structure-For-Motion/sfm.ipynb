{
 "cells": [
  {
   "cell_type": "code",
   "execution_count": 1,
   "metadata": {},
   "outputs": [],
   "source": [
    "import numpy as np\n",
    "import cv2\n",
    "from scipy.optimize import least_squares\n",
    "import os\n",
    "import open3d as o3d\n",
    "import copy\n",
    "from tqdm import tqdm\n",
    "\n",
    "import plotly.graph_objects as go\n",
    "fig = go.Figure()"
   ]
  },
  {
   "cell_type": "markdown",
   "metadata": {},
   "source": [
    "## Find Features with SIFT and Lowe's Filter\n",
    "\n",
    "In this step, we use the **SIFT (Scale-Invariant Feature Transform)** algorithm to detect features in images. Following that, we employ a **Brute-Force KNN Matcher** with Lowe's filter to identify strong matches between the detected features.\n"
   ]
  },
  {
   "cell_type": "code",
   "execution_count": 2,
   "metadata": {},
   "outputs": [],
   "source": [
    "def find_features(img0, img1):\n",
    "    \"\"\"\n",
    "    Detect keypoints and compute descriptors for two images using the SIFT algorithm.\n",
    "\n",
    "    Parameters:\n",
    "    - img0: First input image.\n",
    "    - img1: Second input image.\n",
    "\n",
    "    Returns:\n",
    "    - pts0: Keypoints in the first image.\n",
    "    - pts1: Keypoints in the second image.\n",
    "    \"\"\"\n",
    "    # Convert images to grayscale\n",
    "    img0gray = cv2.cvtColor(img0, cv2.COLOR_BGR2GRAY)\n",
    "    img1gray = cv2.cvtColor(img1, cv2.COLOR_BGR2GRAY)\n",
    "\n",
    "    # Initialize SIFT detector\n",
    "    sift = cv2.SIFT_create()\n",
    "\n",
    "    # Detect keypoints and compute descriptors for both images\n",
    "    kp0, des0 = sift.detectAndCompute(img0gray, None)\n",
    "    kp1, des1 = sift.detectAndCompute(img1gray, None)\n",
    "\n",
    "    # Use Brute-Force Matcher for descriptor matching\n",
    "    bf = cv2.BFMatcher()\n",
    "    matches = bf.knnMatch(des0, des1, k=2)\n",
    "\n",
    "    # Apply ratio test to find good matches\n",
    "    good = []\n",
    "    for m, n in matches:\n",
    "        if m.distance < 0.70 * n.distance:\n",
    "            good.append(m)\n",
    "\n",
    "    # Extract coordinates of keypoints from good matches\n",
    "    pts0 = np.float32([kp0[m.queryIdx].pt for m in good])\n",
    "    pts1 = np.float32([kp1[m.trainIdx].pt for m in good])\n",
    "    return pts0, pts1"
   ]
  },
  {
   "cell_type": "markdown",
   "metadata": {},
   "source": [
    "## Data Association for 3D Reconstruction\n",
    "\n",
    "This code performs data association between initial points (pts1) and new points (pts2 and pts3). The primary goal is to find common points between two sets of points from different images.\n"
   ]
  },
  {
   "cell_type": "code",
   "execution_count": 3,
   "metadata": {},
   "outputs": [],
   "source": [
    "def data_association(pts1, pts2, pts3):\n",
    "    \"\"\"\n",
    "    Perform data association between initial points and new points.\n",
    "\n",
    "    Find common points between two sets of points (pts1 and pts2) and a third set (pts3).\n",
    "\n",
    "    Parameters:\n",
    "    - pts1: Points from the first image.\n",
    "    - pts2: Points from the second image.\n",
    "    - pts3: Points from the third image.\n",
    "\n",
    "    Returns:\n",
    "    - common_indices_1: Indices of common points in pts1.\n",
    "    - common_indices_2: Indices of common points in pts2.\n",
    "    - unmatched_pts2: Points in pts2 that are not common.\n",
    "    - unmatched_pts3: Points in pts3 that are not common.\n",
    "    \"\"\"\n",
    "    if pts1.shape[0] == 0 or pts2.shape[0] == 0 or pts3.shape[0] == 0:\n",
    "        print(\"One or more sets of points are empty.\")\n",
    "        return None, None, None, None\n",
    "\n",
    "    common_indices_1 = []\n",
    "    common_indices_2 = []\n",
    "\n",
    "    # Iterate through points in pts1\n",
    "    for i in range(pts1.shape[0]):\n",
    "        matching_indices = np.where((pts2 == pts1[i, :]).all(axis=1))\n",
    "        # If a match is found in pts2\n",
    "        if matching_indices[0].size > 0:\n",
    "            common_indices_1.append(i)\n",
    "            common_indices_2.append(matching_indices[0][0])\n",
    "\n",
    "    if not common_indices_1 or not common_indices_2:\n",
    "        print(\"No common points found.\")\n",
    "        return None, None, None, None\n",
    "\n",
    "    # Create masked arrays to filter out common points\n",
    "    unmatched_pts2 = np.ma.array(pts2, mask=False)\n",
    "    unmatched_pts2.mask[common_indices_2] = True\n",
    "    unmatched_pts2 = unmatched_pts2.compressed()\n",
    "    unmatched_pts2 = unmatched_pts2.reshape(int(unmatched_pts2.shape[0] / 2), 2)\n",
    "\n",
    "    unmatched_pts3 = np.ma.array(pts3, mask=False)\n",
    "    unmatched_pts3.mask[common_indices_2] = True\n",
    "    unmatched_pts3 = unmatched_pts3.compressed()\n",
    "    unmatched_pts3 = unmatched_pts3.reshape(int(unmatched_pts3.shape[0] / 2), 2)\n",
    "\n",
    "    return np.array(common_indices_1), np.array(common_indices_2), unmatched_pts2, unmatched_pts3"
   ]
  },
  {
   "cell_type": "markdown",
   "metadata": {},
   "source": [
    "## Triangulation for 3D Reconstruction\n",
    "\n",
    "This function performs triangulation to reconstruct 3D points from corresponding 2D points in two images.\n"
   ]
  },
  {
   "cell_type": "code",
   "execution_count": 4,
   "metadata": {},
   "outputs": [],
   "source": [
    "def Triangulation(P1, P2, pts1, pts2):\n",
    "    \"\"\"\n",
    "    Perform triangulation to reconstruct 3D points from corresponding 2D points in two images.\n",
    "\n",
    "    Parameters:\n",
    "    - P1: Projection matrix for the first camera.\n",
    "    - P2: Projection matrix for the second camera.\n",
    "    - pts1: 2D points in the first image.\n",
    "    - pts2: 2D points in the second image.\n",
    "\n",
    "    Returns:\n",
    "    - points1: Transposed 2D points in the first image.\n",
    "    - points2: Transposed 2D points in the second image.\n",
    "    - cloud: Triangulated 3D points.\n",
    "    \"\"\"\n",
    "    # Transpose 2D point arrays to get input data in the expected format for cv2.triangulatePoints\n",
    "    points1 = np.transpose(pts1)\n",
    "    points2 = np.transpose(pts2)\n",
    "\n",
    "    # Perform triangulation to obtain homogeneous 3D coordinates\n",
    "    cloud = cv2.triangulatePoints(P1, P2, points1, points2)\n",
    "    \n",
    "    # Convert homogeneous coordinates to non-homogeneous coordinates\n",
    "    cloud = cloud / cloud[3]\n",
    "\n",
    "    return points1, points2, cloud"
   ]
  },
  {
   "cell_type": "markdown",
   "metadata": {},
   "source": [
    "## Perspective-n-Point (PnP) Pose Estimation\n",
    "\n",
    "This function estimates the camera pose using the Perspective-n-Point (PnP) algorithm, specifically using `cv2.solvePnPRansac`.\n"
   ]
  },
  {
   "cell_type": "code",
   "execution_count": 5,
   "metadata": {},
   "outputs": [],
   "source": [
    "def PnP(world_points, image_points, intrinsic_matrix, distortion_coefficients, original_image_points, initial):\n",
    "    \"\"\"\n",
    "    Estimate camera pose using solvePnPRansac.\n",
    "\n",
    "    Parameters:\n",
    "    - world_points: 3D coordinates of world points.\n",
    "    - image_points: 2D coordinates of corresponding image points.\n",
    "    - intrinsic_matrix: Intrinsic camera matrix.\n",
    "    - distortion_coefficients: Distortion coefficients.\n",
    "    - original_image_points: Original 2D image points.\n",
    "    - initial: Flag indicating whether the function is used in the initial stage.\n",
    "\n",
    "    Returns:\n",
    "    - rotation_matrix: Rotation matrix.\n",
    "    - translation_vector: Translation vector.\n",
    "    - filtered_image_points: Filtered 2D image points.\n",
    "    - filtered_world_points: Filtered 3D world points.\n",
    "    - filtered_original_image_points: Filtered original 2D image points.\n",
    "    \"\"\"\n",
    "    # Check if the function is used in the initial stage\n",
    "    if initial == 1:\n",
    "        # If initial, reshape the input arrays for consistency\n",
    "        world_points = world_points[:, 0, :]  # to remove empty dimension\n",
    "        image_points = image_points.T\n",
    "        original_image_points = original_image_points.T\n",
    "\n",
    "    # Check if there are enough 3D points for PnP\n",
    "    if len(world_points) < 4:\n",
    "        print(\"Not enough points for PnP.\")\n",
    "        return None, None, None, world_points, original_image_points\n",
    "\n",
    "    # Use solvePnPRansac to estimate the pose (R, t) from 3D-2D correspondences\n",
    "    ret, rotation_vector, translation_vector, inliers = cv2.solvePnPRansac(\n",
    "        world_points, image_points, intrinsic_matrix, distortion_coefficients, cv2.SOLVEPNP_ITERATIVE\n",
    "    )\n",
    "\n",
    "    # Check if the PnP solution is successful\n",
    "    if ret is not None:\n",
    "        # Convert rotation vector to rotation matrix\n",
    "        rotation_matrix, _ = cv2.Rodrigues(rotation_vector)\n",
    "\n",
    "        # If inliers are obtained, filter the input arrays accordingly\n",
    "        if inliers is not None:\n",
    "            image_points = image_points[inliers[:, 0]]\n",
    "            world_points = world_points[inliers[:, 0]]\n",
    "            original_image_points = original_image_points[inliers[:, 0]]\n",
    "\n",
    "        # Return the rotation matrix (R), translation vector (t), filtered 2D points (image_points),\n",
    "        # filtered 3D points (world_points), and filtered original 2D points (original_image_points)\n",
    "        return rotation_matrix, translation_vector, image_points, world_points, original_image_points\n",
    "    else:\n",
    "        print(\"PnP failed to find a solution.\")\n",
    "        # If PnP fails, return None for rotation matrix, translation vector, and filtered arrays\n",
    "        return None, None, None, world_points, original_image_points"
   ]
  },
  {
   "cell_type": "markdown",
   "metadata": {},
   "source": [
    "## Reprojection Error for optimization\n",
    "\n",
    "This function computes the reprojection error of 3D world points onto 2D image points, providing a metric for the accuracy of the camera pose.\n"
   ]
  },
  {
   "cell_type": "code",
   "execution_count": 6,
   "metadata": {},
   "outputs": [],
   "source": [
    "def compute_reprojection_error(world_points, image_points, camera_pose, intrinsic_matrix, homogeneity):\n",
    "    \"\"\"\n",
    "    Compute the reprojection error of 3D world points onto 2D image points.\n",
    "\n",
    "    Parameters:\n",
    "    - world_points: 3D coordinates of world points.\n",
    "    - image_points: 2D coordinates of corresponding image points.\n",
    "    - camera_pose: Camera pose matrix (extrinsic parameters).\n",
    "    - intrinsic_matrix: Intrinsic camera matrix.\n",
    "    - homogeneity: Flag indicating whether to use homogeneous coordinates.\n",
    "\n",
    "    Returns:\n",
    "    - total_error: Total reprojection error.\n",
    "    - transformed_world_points: Transformed world points.\n",
    "    - projected_points: Projected points on the image.\n",
    "    \"\"\"\n",
    "    total_error = 0\n",
    "\n",
    "    # Extract rotation and translation from the camera pose matrix\n",
    "    rotation_matrix = camera_pose[:3, :3]\n",
    "    translation_vector = camera_pose[:3, 3]\n",
    "\n",
    "    # Convert rotation matrix to Rodrigues representation\n",
    "    rvec, _ = cv2.Rodrigues(rotation_matrix)\n",
    "\n",
    "    # Convert 3D world points to homogeneous coordinates if required\n",
    "    if homogeneity == 1:\n",
    "        world_points = cv2.convertPointsFromHomogeneous(world_points.T)\n",
    "\n",
    "    # Project 3D world points onto the 2D image plane\n",
    "    projected_points, _ = cv2.projectPoints(world_points, rvec, translation_vector, intrinsic_matrix, distCoeffs=None)\n",
    "    projected_points = projected_points[:, 0, :]\n",
    "    projected_points = np.float32(projected_points)\n",
    "\n",
    "    # Compute reprojection error\n",
    "    if homogeneity == 1:\n",
    "        total_error = cv2.norm(projected_points, image_points.T, cv2.NORM_L2)\n",
    "    else:\n",
    "        total_error = cv2.norm(projected_points, image_points, cv2.NORM_L2)\n",
    "\n",
    "    # Transpose image_points for further processing\n",
    "    image_points = image_points.T\n",
    "\n",
    "    # Normalize total error by the number of points\n",
    "    normalized_error = total_error / len(projected_points)\n",
    "\n",
    "    return normalized_error, world_points, projected_points\n"
   ]
  },
  {
   "cell_type": "markdown",
   "metadata": {},
   "source": [
    "## Bundle Adjustment\n",
    "\n",
    "This function performs bundle adjustment to optimize the parameters, including projection matrix, intrinsic matrix, image points, and 3D world points.\n"
   ]
  },
  {
   "cell_type": "code",
   "execution_count": 7,
   "metadata": {},
   "outputs": [],
   "source": [
    "#  https://scipy-cookbook.readthedocs.io/items/bundle_adjustment.html\n",
    "\n",
    "def calculate_optimization_reprojection_error(params):\n",
    "    # Extracting parameters\n",
    "    projection_matrix = params[0:12].reshape((3, 4))\n",
    "    intrinsic_matrix = params[12:21].reshape((3, 3))\n",
    "    \n",
    "    # Extracting image points\n",
    "    num_image_points = len(params[21:])\n",
    "    num_image_points_to_use = int(num_image_points * 0.4)\n",
    "    image_points = params[21:21 + num_image_points_to_use].reshape((2, int(num_image_points_to_use / 2)))\n",
    "    \n",
    "    # Extracting 3D points\n",
    "    num_3d_points = int(len(params[21 + num_image_points_to_use:]) / 3)\n",
    "    three_d_points = params[21 + num_image_points_to_use:].reshape((num_3d_points, 3))\n",
    "    \n",
    "    # Extracting rotation and translation\n",
    "    rotation_matrix = projection_matrix[:3, :3]\n",
    "    translation_vector = projection_matrix[:3, 3]\n",
    "\n",
    "    image_points = image_points.T\n",
    "    num_points = len(image_points)\n",
    "    error = []\n",
    "    \n",
    "    rotation_vector, _ = cv2.Rodrigues(rotation_matrix)\n",
    "    \n",
    "    projected_2d_points, _ = cv2.projectPoints(three_d_points, rotation_vector, translation_vector, intrinsic_matrix, distCoeffs=None)\n",
    "    projected_2d_points = projected_2d_points[:, 0, :]\n",
    "    \n",
    "    for idx in range(num_points):\n",
    "        actual_image_point = image_points[idx]\n",
    "        reprojected_image_point = projected_2d_points[idx]\n",
    "        point_error = (actual_image_point - reprojected_image_point) ** 2\n",
    "        error.append(point_error)\n",
    "\n",
    "    error_array = np.array(error).ravel() / num_points\n",
    "\n",
    "    return error_array\n",
    "\n",
    "def bundle_adjustment(points_3d, image_points, projection_matrix, intrinsic_matrix, reprojection_error_threshold):\n",
    "    # Concatenate parameters for optimization\n",
    "    optimization_variables = np.hstack((projection_matrix.ravel(), intrinsic_matrix.ravel()))\n",
    "    optimization_variables = np.hstack((optimization_variables, image_points.ravel()))\n",
    "    optimization_variables = np.hstack((optimization_variables, points_3d.ravel()))\n",
    "\n",
    "    # Calculate initial error\n",
    "    initial_error = np.sum(calculate_optimization_reprojection_error(optimization_variables))\n",
    "\n",
    "    # Use least squares optimization to minimize reprojection error\n",
    "    optimized_values = least_squares(fun=calculate_optimization_reprojection_error, x0=optimization_variables, gtol=reprojection_error_threshold)\n",
    "\n",
    "    # Extract optimized values\n",
    "    optimized_values = optimized_values.x\n",
    "    optimized_projection_matrix = optimized_values[:12].reshape((3, 4))\n",
    "\n",
    "    remaining_elements = len(optimized_values[21:])\n",
    "    num_image_points = int(remaining_elements * 0.4)\n",
    "    optimized_image_points = optimized_values[21:21 + num_image_points].reshape((2, num_image_points // 2)).T\n",
    "\n",
    "    optimized_world_coordinates = optimized_values[21 + num_image_points:].reshape((int(remaining_elements / 3), 3))\n",
    "    optimized_image_points = optimized_image_points.T\n",
    "\n",
    "    return optimized_world_coordinates, optimized_image_points, optimized_projection_matrix"
   ]
  },
  {
   "cell_type": "code",
   "execution_count": 8,
   "metadata": {},
   "outputs": [],
   "source": [
    "def draw_points(image, pts, repro):\n",
    "    if repro == False:\n",
    "        image = cv2.drawKeypoints(image, pts, image, color=(0, 255, 0), flags=0)\n",
    "    else:\n",
    "        for p in pts:\n",
    "            image = cv2.circle(image, tuple(p), 2, (0, 0, 255), -1)\n",
    "    return image"
   ]
  },
  {
   "cell_type": "code",
   "execution_count": 9,
   "metadata": {},
   "outputs": [],
   "source": [
    "def create_pointcloud(output_path, point_cloud, colors):\n",
    "    \"\"\"\n",
    "    Convert 3D point cloud data to PLY format and save it to a file.\n",
    "\n",
    "    Parameters:\n",
    "    - output_path: Path to the directory where the PLY file will be saved.\n",
    "    - point_cloud: 3D point cloud data (numpy array).\n",
    "    - colors: RGB colors corresponding to each point in the cloud.\n",
    "\n",
    "    Returns:\n",
    "    None\n",
    "    \"\"\"\n",
    "    # Rescale point cloud coordinates and concatenate with colors\n",
    "    scaled_points = point_cloud.reshape(-1, 3) * 200\n",
    "    colored_points = np.hstack([scaled_points, colors.reshape(-1, 3)])\n",
    "\n",
    "    # Clean the point cloud by removing points outside a certain distance from the mean\n",
    "    mean_point = np.mean(colored_points[:, :3], axis=0)\n",
    "    centered_points = colored_points[:, :3] - mean_point\n",
    "    distances = np.sqrt(centered_points[:, 0] ** 2 + centered_points[:, 1] ** 2 + centered_points[:, 2] ** 2)\n",
    "    valid_indices = np.where(distances < np.mean(distances) + 300)\n",
    "    cleaned_points = colored_points[valid_indices]\n",
    "\n",
    "    # Define PLY header\n",
    "    ply_header = '''ply\n",
    "        format ascii 1.0\n",
    "        element vertex %(num_verts)d\n",
    "        property float x\n",
    "        property float y\n",
    "        property float z\n",
    "        property uchar blue\n",
    "        property uchar green\n",
    "        property uchar red\n",
    "        end_header\n",
    "        '''\n",
    "\n",
    "    # Write the PLY file\n",
    "    with open(os.path.join(output_path, \"Point_Cloud\", \"sparse_ptcloud1.ply\"), \"w\") as file:\n",
    "        file.write(ply_header % dict(num_verts=len(cleaned_points)))\n",
    "        np.savetxt(file, cleaned_points, '%f %f %f %d %d %d')\n"
   ]
  },
  {
   "cell_type": "markdown",
   "metadata": {},
   "source": [
    "## SFM pipeline\n",
    "The SFM Pipeline is designed to perform incremental Structure from Motion (SFM) for multiple images"
   ]
  },
  {
   "cell_type": "code",
   "execution_count": 10,
   "metadata": {},
   "outputs": [],
   "source": [
    "def sfm_pipeline(path, img_dir, intrinsic_matrix, perform_bundle_adjustment=False):\n",
    "    image_dataset = os.path.basename(img_dir)\n",
    "\n",
    "    # Initialize variables and parameters\n",
    "    print('Initialized Initial Parameters')\n",
    "    cv2.namedWindow('image', cv2.WINDOW_NORMAL)\n",
    "    pose_array = intrinsic_matrix.ravel()\n",
    "\n",
    "    # Initialize Pose at a (4 x 4) Identity Matrix\n",
    "    initial_pose_matrix = np.array([[1, 0, 0, 0], [0, 1, 0, 0], [0, 0, 1, 0]])                \n",
    "    current_pose_matrix = np.empty((3, 4))\n",
    "\n",
    "    projection_matrix_1 = np.matmul(intrinsic_matrix, initial_pose_matrix)\n",
    "    projection_matrix_2 = np.empty((3, 4))\n",
    "    total_points_3d = np.zeros((1, 3))\n",
    "    total_colors = np.zeros((1, 3))\n",
    "    images = []\n",
    "\n",
    "    # Get a list of images in the directory\n",
    "    for img_filename in sorted(os.listdir(img_dir)):\n",
    "        if '.jpg' in img_filename.lower() or '.png' in img_filename.lower():\n",
    "            images += [img_filename]\n",
    "\n",
    "    i = 0\n",
    "    mesh = o3d.geometry.TriangleMesh.create_coordinate_frame()\n",
    "\n",
    "    # Setting the reference two frames\n",
    "    image_0 = cv2.imread(os.path.join(img_dir, images[i]))\n",
    "    image_1 = cv2.imread(os.path.join(img_dir, images[i + 1]))\n",
    "\n",
    "    # Initial features for the first two images\n",
    "    pts0, pts1 = find_features(image_0, image_1)\n",
    "\n",
    "    # Finding essential matrix\n",
    "    essential_matrix, mask = cv2.findEssentialMat(pts0, pts1, intrinsic_matrix, method=cv2.RANSAC, prob=0.999, threshold=0.4, mask=None)\n",
    "    pts0 = pts0[mask.ravel() == 1]\n",
    "    pts1 = pts1[mask.ravel() == 1]\n",
    "\n",
    "    # The pose obtained is for the second image with respect to the first image\n",
    "    _, rotation_matrix, translation, mask = cv2.recoverPose(essential_matrix, pts0, pts1, intrinsic_matrix)  # finding the pose\n",
    "    pts0 = pts0[mask.ravel() > 0]\n",
    "    pts1 = pts1[mask.ravel() > 0]\n",
    "\n",
    "    # Initial extrinsic matrix for the second image\n",
    "    current_pose_matrix[:3, :3] = np.matmul(rotation_matrix, initial_pose_matrix[:3, :3])\n",
    "    current_pose_matrix[:3, 3] = initial_pose_matrix[:3, 3] + np.matmul(initial_pose_matrix[:3, :3], translation.ravel())\n",
    "    \n",
    "    # Initial Projection Matrix for the second image\n",
    "    projection_matrix_2 = np.matmul(intrinsic_matrix, current_pose_matrix)\n",
    "\n",
    "    # Triangulate the first image pair and poses will be set as reference\n",
    "    pts0, pts1, points_3d = Triangulation(projection_matrix_1, projection_matrix_2, pts0, pts1)\n",
    "\n",
    "    # Reprojecting the 3D points on the image and calculating the reprojection error\n",
    "    reprojection_error, points_3d, reprojection_points = compute_reprojection_error(points_3d, pts1, current_pose_matrix, intrinsic_matrix, homogeneity=1)\n",
    "    print(\"REPROJECTION ERROR: \", reprojection_error)\n",
    "    rotation, translation, pts1, points_3d, keypoints_0_transformed = PnP(points_3d, pts1, intrinsic_matrix, np.zeros((5, 1), dtype=np.float32), pts0, initial=1)\n",
    "\n",
    "    rotation = np.eye(3)\n",
    "    translation = np.array([[0], [0], [0]], dtype=np.float32)\n",
    "\n",
    "    # Images to be taken into consideration\n",
    "    total_images = len(images) - 2 \n",
    "\n",
    "    # Store the projection matrices for the current image pair in the pose_array array\n",
    "    pose_array = np.hstack((pose_array, projection_matrix_1.ravel()))\n",
    "    pose_array = np.hstack((pose_array, projection_matrix_2.ravel()))\n",
    "\n",
    "    # Gradient threshold for bundle adjustment optimization\n",
    "    gradient_threshold = 0.4\n",
    "\n",
    "\n",
    "    for image_index in tqdm(range(total_images)):\n",
    "        # Acquire a new image to be added to the pipeline and acquire matches with image pair\n",
    "        current_image = cv2.imread(os.path.join(img_dir, images[image_index + 2]))\n",
    "\n",
    "        # Detect features in the new image (current_image) and find correspondences\n",
    "        pts_, pts2  = find_features(image_1, current_image)\n",
    "\n",
    "        # If not processing the first image pair, perform triangulation for 3D reconstruction\n",
    "        if image_index != 0:\n",
    "            # Triangulate 3D points using the previous camera poses (projection_matrix_1, projection_matrix_2) and correspondences (keypoints_previous, keypoints_current)\n",
    "            pts0, pts1, points_3d = Triangulation(projection_matrix_1, projection_matrix_2, pts0, pts1)\n",
    "\n",
    "            # Transpose the points matrix for further processing\n",
    "            pts1 = pts1.T\n",
    "\n",
    "            # Convert homogeneous coordinates of 3D points\n",
    "            points_3d = cv2.convertPointsFromHomogeneous(points_3d.T)\n",
    "            points_3d = points_3d[:, 0, :]\n",
    "\n",
    "        # Data Association\n",
    "        # Find common points between the 3D points from the previous pair and the new correspondences\n",
    "        # Extract common points in keypoints_current and keypoints_previous\n",
    "        indices_1, indices_2, temp_keypoints_current, temp_keypoints_new = data_association(pts1, pts_, pts2)\n",
    "\n",
    "        common_keypoints_current_image = pts2[indices_2]\n",
    "        common_keypoints_previous = pts_[indices_2]\n",
    "\n",
    "        # We have the 3D - 2D Correspondence for the new image as well as the point cloud obtained from before. The common points can be used to find the world coordinates of the new image\n",
    "        # using Perspective - n - Point (PnP)\n",
    "        rotation, translation, common_keypoints_current_image, points_3d, common_keypoints_previous = PnP(points_3d[indices_1], common_keypoints_current_image, intrinsic_matrix, np.zeros((5, 1), dtype=np.float32), common_keypoints_previous, initial=0)\n",
    "\n",
    "        # Find the equivalent projection matrix for the new image\n",
    "        new_extrinsic_matrix = np.hstack((rotation, translation))\n",
    "        new_projection_matrix = np.matmul(intrinsic_matrix, new_extrinsic_matrix)\n",
    "\n",
    "        error, points_3d, _ = compute_reprojection_error(points_3d, common_keypoints_current_image, new_extrinsic_matrix, intrinsic_matrix, homogeneity=0)\n",
    "\n",
    "        temp_keypoints_previous, temp_keypoints_current, points_3d = Triangulation(projection_matrix_2, new_projection_matrix, temp_keypoints_current, temp_keypoints_new)\n",
    "        error, points_3d, _ = compute_reprojection_error(points_3d, temp_keypoints_current, new_extrinsic_matrix, intrinsic_matrix, homogeneity=1)\n",
    "        print(\"Reprojection Error: \", error)\n",
    "\n",
    "        # We are storing the pose for each image. This will be very useful during multiview stereo as this should be known\n",
    "        pose_array = np.hstack((pose_array, new_projection_matrix.ravel()))\n",
    "\n",
    "        # Bundle adjustment based on least squares\n",
    "        if perform_bundle_adjustment:\n",
    "            print(\"Bundle Adjustment...\")\n",
    "            points_3d, temp_keypoints_current, new_projection_matrix = bundle_adjustment(points_3d, temp_keypoints_current, new_projection_matrix, intrinsic_matrix, gradient_threshold)\n",
    "            new_projection_matrix = np.matmul(intrinsic_matrix, new_projection_matrix)\n",
    "            error, points_3d, _ = compute_reprojection_error(points_3d, temp_keypoints_current, new_extrinsic_matrix, intrinsic_matrix, homogeneity=0)\n",
    "            print(\"Minimized error: \", error)\n",
    "            total_points_3d = np.vstack((total_points_3d, points_3d))\n",
    "            keypoints_current_reg = np.array(temp_keypoints_current, dtype=np.int32)\n",
    "            colors = np.array([current_image[l[1], l[0]] for l in keypoints_current_reg])\n",
    "            total_colors = np.vstack((total_colors, colors))\n",
    "        else:\n",
    "            total_points_3d = np.vstack((total_points_3d, points_3d[:, 0, :]))\n",
    "            keypoints_current_reg = np.array(temp_keypoints_current, dtype=np.int32)\n",
    "            colors = np.array([current_image[l[1], l[0]] for l in keypoints_current_reg.T])\n",
    "            total_colors = np.vstack((total_colors, colors)) \n",
    "\n",
    "        projection_matrix_1 = np.copy(projection_matrix_2)\n",
    "\n",
    "        fig.add_trace(go.Scatter(x=[i], y=[error], mode='markers'))\n",
    "        fig.update_layout(title='Reprojection Error Over Iterations', xaxis_title='Iteration', yaxis_title='Reprojection Error')\n",
    "\n",
    "        image_0 = np.copy(image_1)\n",
    "        image_1 = np.copy(current_image)\n",
    "        pts0 = np.copy(pts_)\n",
    "        pts1 = np.copy(pts2)\n",
    "        projection_matrix_2 = np.copy(new_projection_matrix)\n",
    "        cv2.imshow('image', current_image)\n",
    "        if cv2.waitKey(1) & 0xff == ord('q'):\n",
    "            break\n",
    "\n",
    "    fig.show()\n",
    "    cv2.destroyAllWindows()\n",
    "\n",
    "    # the obtained points cloud is registered and saved using open3d. It is saved in .ply form, which can be viewed using meshlab\n",
    "    print(\"Processing Point Cloud...\")\n",
    "    create_pointcloud(path, total_points_3d, total_colors)\n",
    "    print(f\"Incremental SFM for {image_dataset} dataset completed!\")\n",
    "    # Saving projection matrices for all the images\n",
    "    #np.savetxt('pose.csv', posearr, delimiter = '\\n')\n"
   ]
  },
  {
   "cell_type": "markdown",
   "metadata": {},
   "source": [
    "## main.py for execution of the above pipeline\n",
    "\n",
    "- Input the Intrinsic Camera Matrx \n",
    "- Input opath for the dataset containing .jpg or .png images\n"
   ]
  },
  {
   "cell_type": "code",
   "execution_count": 11,
   "metadata": {},
   "outputs": [
    {
     "name": "stdout",
     "output_type": "stream",
     "text": [
      "Initialized Initial Parameters\n",
      "REPROJECTION ERROR:  0.002249517015535686\n"
     ]
    },
    {
     "name": "stderr",
     "output_type": "stream",
     "text": [
      "  1%|▏         | 1/67 [00:01<01:09,  1.05s/it]"
     ]
    },
    {
     "name": "stdout",
     "output_type": "stream",
     "text": [
      "Reprojection Error:  0.3348880995189962\n"
     ]
    },
    {
     "name": "stderr",
     "output_type": "stream",
     "text": [
      "  3%|▎         | 2/67 [00:02<01:07,  1.04s/it]"
     ]
    },
    {
     "name": "stdout",
     "output_type": "stream",
     "text": [
      "Reprojection Error:  0.48364608675401205\n"
     ]
    },
    {
     "name": "stderr",
     "output_type": "stream",
     "text": [
      "  4%|▍         | 3/67 [00:03<01:06,  1.03s/it]"
     ]
    },
    {
     "name": "stdout",
     "output_type": "stream",
     "text": [
      "Reprojection Error:  0.5903708269240521\n"
     ]
    },
    {
     "name": "stderr",
     "output_type": "stream",
     "text": [
      "  6%|▌         | 4/67 [00:04<01:07,  1.08s/it]"
     ]
    },
    {
     "name": "stdout",
     "output_type": "stream",
     "text": [
      "Reprojection Error:  0.46865552344485323\n"
     ]
    },
    {
     "name": "stderr",
     "output_type": "stream",
     "text": [
      "  7%|▋         | 5/67 [00:05<01:06,  1.07s/it]"
     ]
    },
    {
     "name": "stdout",
     "output_type": "stream",
     "text": [
      "Reprojection Error:  0.6483521050451451\n"
     ]
    },
    {
     "name": "stderr",
     "output_type": "stream",
     "text": [
      "  9%|▉         | 6/67 [00:06<01:05,  1.08s/it]"
     ]
    },
    {
     "name": "stdout",
     "output_type": "stream",
     "text": [
      "Reprojection Error:  1.0643787462565824\n"
     ]
    },
    {
     "name": "stderr",
     "output_type": "stream",
     "text": [
      " 10%|█         | 7/67 [00:07<01:05,  1.09s/it]"
     ]
    },
    {
     "name": "stdout",
     "output_type": "stream",
     "text": [
      "Reprojection Error:  0.3033180816599556\n"
     ]
    },
    {
     "name": "stderr",
     "output_type": "stream",
     "text": [
      " 12%|█▏        | 8/67 [00:08<01:02,  1.06s/it]"
     ]
    },
    {
     "name": "stdout",
     "output_type": "stream",
     "text": [
      "Reprojection Error:  3.067799869292288\n"
     ]
    },
    {
     "name": "stderr",
     "output_type": "stream",
     "text": [
      " 13%|█▎        | 9/67 [00:09<01:01,  1.06s/it]"
     ]
    },
    {
     "name": "stdout",
     "output_type": "stream",
     "text": [
      "Reprojection Error:  3.3168040957554576\n"
     ]
    },
    {
     "name": "stderr",
     "output_type": "stream",
     "text": [
      " 15%|█▍        | 10/67 [00:10<00:58,  1.02s/it]"
     ]
    },
    {
     "name": "stdout",
     "output_type": "stream",
     "text": [
      "Reprojection Error:  0.8215329303747297\n"
     ]
    },
    {
     "name": "stderr",
     "output_type": "stream",
     "text": [
      " 16%|█▋        | 11/67 [00:11<00:55,  1.01it/s]"
     ]
    },
    {
     "name": "stdout",
     "output_type": "stream",
     "text": [
      "Reprojection Error:  2.2042237691629354\n"
     ]
    },
    {
     "name": "stderr",
     "output_type": "stream",
     "text": [
      " 18%|█▊        | 12/67 [00:12<00:53,  1.04it/s]"
     ]
    },
    {
     "name": "stdout",
     "output_type": "stream",
     "text": [
      "Reprojection Error:  5.325234772287431\n"
     ]
    },
    {
     "name": "stderr",
     "output_type": "stream",
     "text": [
      " 19%|█▉        | 13/67 [00:13<00:50,  1.06it/s]"
     ]
    },
    {
     "name": "stdout",
     "output_type": "stream",
     "text": [
      "Reprojection Error:  3.1908059494752266\n"
     ]
    },
    {
     "name": "stderr",
     "output_type": "stream",
     "text": [
      " 21%|██        | 14/67 [00:14<00:48,  1.09it/s]"
     ]
    },
    {
     "name": "stdout",
     "output_type": "stream",
     "text": [
      "Reprojection Error:  1.453460107586381\n"
     ]
    },
    {
     "name": "stderr",
     "output_type": "stream",
     "text": [
      " 22%|██▏       | 15/67 [00:14<00:46,  1.11it/s]"
     ]
    },
    {
     "name": "stdout",
     "output_type": "stream",
     "text": [
      "Reprojection Error:  2.9358719951931675\n"
     ]
    },
    {
     "name": "stderr",
     "output_type": "stream",
     "text": [
      " 24%|██▍       | 16/67 [00:15<00:45,  1.12it/s]"
     ]
    },
    {
     "name": "stdout",
     "output_type": "stream",
     "text": [
      "Reprojection Error:  9.335690226576778\n"
     ]
    },
    {
     "name": "stderr",
     "output_type": "stream",
     "text": [
      " 25%|██▌       | 17/67 [00:16<00:43,  1.16it/s]"
     ]
    },
    {
     "name": "stdout",
     "output_type": "stream",
     "text": [
      "Reprojection Error:  1.3922504301311194\n"
     ]
    },
    {
     "name": "stderr",
     "output_type": "stream",
     "text": [
      " 27%|██▋       | 18/67 [00:17<00:41,  1.17it/s]"
     ]
    },
    {
     "name": "stdout",
     "output_type": "stream",
     "text": [
      "Reprojection Error:  0.5339165046066705\n"
     ]
    },
    {
     "name": "stderr",
     "output_type": "stream",
     "text": [
      " 28%|██▊       | 19/67 [00:18<00:42,  1.14it/s]"
     ]
    },
    {
     "name": "stdout",
     "output_type": "stream",
     "text": [
      "Reprojection Error:  1.0325961617890638\n"
     ]
    },
    {
     "name": "stderr",
     "output_type": "stream",
     "text": [
      " 30%|██▉       | 20/67 [00:19<00:40,  1.16it/s]"
     ]
    },
    {
     "name": "stdout",
     "output_type": "stream",
     "text": [
      "Reprojection Error:  3.1019312717600647\n"
     ]
    },
    {
     "name": "stderr",
     "output_type": "stream",
     "text": [
      " 31%|███▏      | 21/67 [00:20<00:41,  1.11it/s]"
     ]
    },
    {
     "name": "stdout",
     "output_type": "stream",
     "text": [
      "Reprojection Error:  0.16195787188142105\n"
     ]
    },
    {
     "name": "stderr",
     "output_type": "stream",
     "text": [
      " 33%|███▎      | 22/67 [00:21<00:42,  1.06it/s]"
     ]
    },
    {
     "name": "stdout",
     "output_type": "stream",
     "text": [
      "Reprojection Error:  0.8937518749993836\n"
     ]
    },
    {
     "name": "stderr",
     "output_type": "stream",
     "text": [
      " 34%|███▍      | 23/67 [00:22<00:42,  1.03it/s]"
     ]
    },
    {
     "name": "stdout",
     "output_type": "stream",
     "text": [
      "Reprojection Error:  6.74906170957002\n"
     ]
    },
    {
     "name": "stderr",
     "output_type": "stream",
     "text": [
      " 36%|███▌      | 24/67 [00:23<00:42,  1.02it/s]"
     ]
    },
    {
     "name": "stdout",
     "output_type": "stream",
     "text": [
      "Reprojection Error:  27.485937282384032\n"
     ]
    },
    {
     "name": "stderr",
     "output_type": "stream",
     "text": [
      " 37%|███▋      | 25/67 [00:24<00:43,  1.03s/it]"
     ]
    },
    {
     "name": "stdout",
     "output_type": "stream",
     "text": [
      "Reprojection Error:  2.7641148217580356\n"
     ]
    },
    {
     "name": "stderr",
     "output_type": "stream",
     "text": [
      " 39%|███▉      | 26/67 [00:25<00:42,  1.04s/it]"
     ]
    },
    {
     "name": "stdout",
     "output_type": "stream",
     "text": [
      "Reprojection Error:  4.594062984371099\n"
     ]
    },
    {
     "name": "stderr",
     "output_type": "stream",
     "text": [
      " 40%|████      | 27/67 [00:26<00:43,  1.10s/it]"
     ]
    },
    {
     "name": "stdout",
     "output_type": "stream",
     "text": [
      "Reprojection Error:  3.5551207157404745\n"
     ]
    },
    {
     "name": "stderr",
     "output_type": "stream",
     "text": [
      " 42%|████▏     | 28/67 [00:27<00:44,  1.13s/it]"
     ]
    },
    {
     "name": "stdout",
     "output_type": "stream",
     "text": [
      "Reprojection Error:  2.4926980328043307\n"
     ]
    },
    {
     "name": "stderr",
     "output_type": "stream",
     "text": [
      " 43%|████▎     | 29/67 [00:29<00:44,  1.18s/it]"
     ]
    },
    {
     "name": "stdout",
     "output_type": "stream",
     "text": [
      "Reprojection Error:  2.6984823006905017\n"
     ]
    },
    {
     "name": "stderr",
     "output_type": "stream",
     "text": [
      " 45%|████▍     | 30/67 [00:30<00:42,  1.15s/it]"
     ]
    },
    {
     "name": "stdout",
     "output_type": "stream",
     "text": [
      "Reprojection Error:  1.24739051821305\n"
     ]
    },
    {
     "name": "stderr",
     "output_type": "stream",
     "text": [
      " 46%|████▋     | 31/67 [00:31<00:40,  1.14s/it]"
     ]
    },
    {
     "name": "stdout",
     "output_type": "stream",
     "text": [
      "Reprojection Error:  0.7971530850522884\n"
     ]
    },
    {
     "name": "stderr",
     "output_type": "stream",
     "text": [
      " 48%|████▊     | 32/67 [00:32<00:38,  1.10s/it]"
     ]
    },
    {
     "name": "stdout",
     "output_type": "stream",
     "text": [
      "Reprojection Error:  0.5324067073857809\n"
     ]
    },
    {
     "name": "stderr",
     "output_type": "stream",
     "text": [
      " 49%|████▉     | 33/67 [00:33<00:36,  1.08s/it]"
     ]
    },
    {
     "name": "stdout",
     "output_type": "stream",
     "text": [
      "Reprojection Error:  1.2896519090264529\n"
     ]
    },
    {
     "name": "stderr",
     "output_type": "stream",
     "text": [
      " 51%|█████     | 34/67 [00:34<00:35,  1.07s/it]"
     ]
    },
    {
     "name": "stdout",
     "output_type": "stream",
     "text": [
      "Reprojection Error:  8.478900270643104\n"
     ]
    },
    {
     "name": "stderr",
     "output_type": "stream",
     "text": [
      " 52%|█████▏    | 35/67 [00:35<00:33,  1.06s/it]"
     ]
    },
    {
     "name": "stdout",
     "output_type": "stream",
     "text": [
      "Reprojection Error:  0.8518495049887936\n"
     ]
    },
    {
     "name": "stderr",
     "output_type": "stream",
     "text": [
      " 54%|█████▎    | 36/67 [00:36<00:33,  1.08s/it]"
     ]
    },
    {
     "name": "stdout",
     "output_type": "stream",
     "text": [
      "Reprojection Error:  0.4772675670365852\n"
     ]
    },
    {
     "name": "stderr",
     "output_type": "stream",
     "text": [
      " 55%|█████▌    | 37/67 [00:37<00:33,  1.13s/it]"
     ]
    },
    {
     "name": "stdout",
     "output_type": "stream",
     "text": [
      "Reprojection Error:  2.0369601474750865\n"
     ]
    },
    {
     "name": "stderr",
     "output_type": "stream",
     "text": [
      " 57%|█████▋    | 38/67 [00:39<00:33,  1.15s/it]"
     ]
    },
    {
     "name": "stdout",
     "output_type": "stream",
     "text": [
      "Reprojection Error:  2.037398324844718\n"
     ]
    },
    {
     "name": "stderr",
     "output_type": "stream",
     "text": [
      " 58%|█████▊    | 39/67 [00:40<00:31,  1.12s/it]"
     ]
    },
    {
     "name": "stdout",
     "output_type": "stream",
     "text": [
      "Reprojection Error:  10.241010864664862\n"
     ]
    },
    {
     "name": "stderr",
     "output_type": "stream",
     "text": [
      " 60%|█████▉    | 40/67 [00:41<00:29,  1.08s/it]"
     ]
    },
    {
     "name": "stdout",
     "output_type": "stream",
     "text": [
      "Reprojection Error:  1.3808473492160922\n"
     ]
    },
    {
     "name": "stderr",
     "output_type": "stream",
     "text": [
      " 61%|██████    | 41/67 [00:42<00:28,  1.08s/it]"
     ]
    },
    {
     "name": "stdout",
     "output_type": "stream",
     "text": [
      "Reprojection Error:  7.103608633802321\n"
     ]
    },
    {
     "name": "stderr",
     "output_type": "stream",
     "text": [
      " 63%|██████▎   | 42/67 [00:43<00:26,  1.05s/it]"
     ]
    },
    {
     "name": "stdout",
     "output_type": "stream",
     "text": [
      "Reprojection Error:  5.608540851707767\n"
     ]
    },
    {
     "name": "stderr",
     "output_type": "stream",
     "text": [
      " 64%|██████▍   | 43/67 [00:44<00:25,  1.05s/it]"
     ]
    },
    {
     "name": "stdout",
     "output_type": "stream",
     "text": [
      "Reprojection Error:  26.52697706157082\n"
     ]
    },
    {
     "name": "stderr",
     "output_type": "stream",
     "text": [
      " 66%|██████▌   | 44/67 [00:45<00:23,  1.04s/it]"
     ]
    },
    {
     "name": "stdout",
     "output_type": "stream",
     "text": [
      "Reprojection Error:  3.6265944788457913\n"
     ]
    },
    {
     "name": "stderr",
     "output_type": "stream",
     "text": [
      " 67%|██████▋   | 45/67 [00:46<00:23,  1.05s/it]"
     ]
    },
    {
     "name": "stdout",
     "output_type": "stream",
     "text": [
      "Reprojection Error:  6.096034442680354\n"
     ]
    },
    {
     "name": "stderr",
     "output_type": "stream",
     "text": [
      " 69%|██████▊   | 46/67 [00:47<00:21,  1.01s/it]"
     ]
    },
    {
     "name": "stdout",
     "output_type": "stream",
     "text": [
      "Reprojection Error:  1.644728899169343\n"
     ]
    },
    {
     "name": "stderr",
     "output_type": "stream",
     "text": [
      " 70%|███████   | 47/67 [00:48<00:20,  1.01s/it]"
     ]
    },
    {
     "name": "stdout",
     "output_type": "stream",
     "text": [
      "Reprojection Error:  8.80147419209989\n"
     ]
    },
    {
     "name": "stderr",
     "output_type": "stream",
     "text": [
      " 72%|███████▏  | 48/67 [00:49<00:18,  1.03it/s]"
     ]
    },
    {
     "name": "stdout",
     "output_type": "stream",
     "text": [
      "Reprojection Error:  8.316108577380756\n"
     ]
    },
    {
     "name": "stderr",
     "output_type": "stream",
     "text": [
      " 73%|███████▎  | 49/67 [00:50<00:17,  1.05it/s]"
     ]
    },
    {
     "name": "stdout",
     "output_type": "stream",
     "text": [
      "Reprojection Error:  1.368970822253542\n"
     ]
    },
    {
     "name": "stderr",
     "output_type": "stream",
     "text": [
      " 75%|███████▍  | 50/67 [00:50<00:15,  1.08it/s]"
     ]
    },
    {
     "name": "stdout",
     "output_type": "stream",
     "text": [
      "Reprojection Error:  2.773125533769744\n"
     ]
    },
    {
     "name": "stderr",
     "output_type": "stream",
     "text": [
      " 76%|███████▌  | 51/67 [00:51<00:14,  1.11it/s]"
     ]
    },
    {
     "name": "stdout",
     "output_type": "stream",
     "text": [
      "Reprojection Error:  11.589862568980601\n"
     ]
    },
    {
     "name": "stderr",
     "output_type": "stream",
     "text": [
      " 78%|███████▊  | 52/67 [00:52<00:13,  1.07it/s]"
     ]
    },
    {
     "name": "stdout",
     "output_type": "stream",
     "text": [
      "Reprojection Error:  8.900626048712407\n"
     ]
    },
    {
     "name": "stderr",
     "output_type": "stream",
     "text": [
      " 79%|███████▉  | 53/67 [00:53<00:12,  1.08it/s]"
     ]
    },
    {
     "name": "stdout",
     "output_type": "stream",
     "text": [
      "Reprojection Error:  2.1316786580941685\n"
     ]
    },
    {
     "name": "stderr",
     "output_type": "stream",
     "text": [
      " 81%|████████  | 54/67 [00:54<00:12,  1.01it/s]"
     ]
    },
    {
     "name": "stdout",
     "output_type": "stream",
     "text": [
      "Reprojection Error:  3.3037016133183843\n"
     ]
    },
    {
     "name": "stderr",
     "output_type": "stream",
     "text": [
      " 82%|████████▏ | 55/67 [00:55<00:11,  1.01it/s]"
     ]
    },
    {
     "name": "stdout",
     "output_type": "stream",
     "text": [
      "Reprojection Error:  0.32428594608742844\n"
     ]
    },
    {
     "name": "stderr",
     "output_type": "stream",
     "text": [
      " 84%|████████▎ | 56/67 [00:56<00:10,  1.03it/s]"
     ]
    },
    {
     "name": "stdout",
     "output_type": "stream",
     "text": [
      "Reprojection Error:  0.2854138554069896\n"
     ]
    },
    {
     "name": "stderr",
     "output_type": "stream",
     "text": [
      " 85%|████████▌ | 57/67 [00:57<00:09,  1.05it/s]"
     ]
    },
    {
     "name": "stdout",
     "output_type": "stream",
     "text": [
      "Reprojection Error:  0.22278148820198665\n"
     ]
    },
    {
     "name": "stderr",
     "output_type": "stream",
     "text": [
      " 87%|████████▋ | 58/67 [00:58<00:08,  1.07it/s]"
     ]
    },
    {
     "name": "stdout",
     "output_type": "stream",
     "text": [
      "Reprojection Error:  1.3434388866599631\n"
     ]
    },
    {
     "name": "stderr",
     "output_type": "stream",
     "text": [
      " 88%|████████▊ | 59/67 [00:59<00:08,  1.03s/it]"
     ]
    },
    {
     "name": "stdout",
     "output_type": "stream",
     "text": [
      "Reprojection Error:  4.388013490701933\n"
     ]
    },
    {
     "name": "stderr",
     "output_type": "stream",
     "text": [
      " 90%|████████▉ | 60/67 [01:00<00:07,  1.03s/it]"
     ]
    },
    {
     "name": "stdout",
     "output_type": "stream",
     "text": [
      "Reprojection Error:  42.73925750004485\n"
     ]
    },
    {
     "name": "stderr",
     "output_type": "stream",
     "text": [
      " 91%|█████████ | 61/67 [01:01<00:05,  1.02it/s]"
     ]
    },
    {
     "name": "stdout",
     "output_type": "stream",
     "text": [
      "Reprojection Error:  6.016459957673163\n"
     ]
    },
    {
     "name": "stderr",
     "output_type": "stream",
     "text": [
      " 93%|█████████▎| 62/67 [01:02<00:04,  1.05it/s]"
     ]
    },
    {
     "name": "stdout",
     "output_type": "stream",
     "text": [
      "Reprojection Error:  0.40363650967675246\n"
     ]
    },
    {
     "name": "stderr",
     "output_type": "stream",
     "text": [
      " 94%|█████████▍| 63/67 [01:03<00:03,  1.06it/s]"
     ]
    },
    {
     "name": "stdout",
     "output_type": "stream",
     "text": [
      "Reprojection Error:  0.6429030567339076\n"
     ]
    },
    {
     "name": "stderr",
     "output_type": "stream",
     "text": [
      " 96%|█████████▌| 64/67 [01:04<00:02,  1.07it/s]"
     ]
    },
    {
     "name": "stdout",
     "output_type": "stream",
     "text": [
      "Reprojection Error:  43.70089269322174\n"
     ]
    },
    {
     "name": "stderr",
     "output_type": "stream",
     "text": [
      " 97%|█████████▋| 65/67 [01:05<00:01,  1.03it/s]"
     ]
    },
    {
     "name": "stdout",
     "output_type": "stream",
     "text": [
      "Reprojection Error:  13.087461842544641\n"
     ]
    },
    {
     "name": "stderr",
     "output_type": "stream",
     "text": [
      " 99%|█████████▊| 66/67 [01:06<00:00,  1.01it/s]"
     ]
    },
    {
     "name": "stdout",
     "output_type": "stream",
     "text": [
      "Reprojection Error:  0.687078574112956\n"
     ]
    },
    {
     "name": "stderr",
     "output_type": "stream",
     "text": [
      "100%|██████████| 67/67 [01:07<00:00,  1.01s/it]"
     ]
    },
    {
     "name": "stdout",
     "output_type": "stream",
     "text": [
      "Reprojection Error:  1.0290126583948747\n"
     ]
    },
    {
     "name": "stderr",
     "output_type": "stream",
     "text": [
      "\n"
     ]
    },
    {
     "data": {
      "application/vnd.plotly.v1+json": {
       "config": {
        "plotlyServerURL": "https://plot.ly"
       },
       "data": [
        {
         "mode": "markers",
         "type": "scatter",
         "x": [
          0
         ],
         "y": [
          0.3348880995189962
         ]
        },
        {
         "mode": "markers",
         "type": "scatter",
         "x": [
          0
         ],
         "y": [
          0.48364608675401205
         ]
        },
        {
         "mode": "markers",
         "type": "scatter",
         "x": [
          0
         ],
         "y": [
          0.5903708269240521
         ]
        },
        {
         "mode": "markers",
         "type": "scatter",
         "x": [
          0
         ],
         "y": [
          0.46865552344485323
         ]
        },
        {
         "mode": "markers",
         "type": "scatter",
         "x": [
          0
         ],
         "y": [
          0.6483521050451451
         ]
        },
        {
         "mode": "markers",
         "type": "scatter",
         "x": [
          0
         ],
         "y": [
          1.0643787462565824
         ]
        },
        {
         "mode": "markers",
         "type": "scatter",
         "x": [
          0
         ],
         "y": [
          0.3033180816599556
         ]
        },
        {
         "mode": "markers",
         "type": "scatter",
         "x": [
          0
         ],
         "y": [
          3.067799869292288
         ]
        },
        {
         "mode": "markers",
         "type": "scatter",
         "x": [
          0
         ],
         "y": [
          3.3168040957554576
         ]
        },
        {
         "mode": "markers",
         "type": "scatter",
         "x": [
          0
         ],
         "y": [
          0.8215329303747297
         ]
        },
        {
         "mode": "markers",
         "type": "scatter",
         "x": [
          0
         ],
         "y": [
          2.2042237691629354
         ]
        },
        {
         "mode": "markers",
         "type": "scatter",
         "x": [
          0
         ],
         "y": [
          5.325234772287431
         ]
        },
        {
         "mode": "markers",
         "type": "scatter",
         "x": [
          0
         ],
         "y": [
          3.1908059494752266
         ]
        },
        {
         "mode": "markers",
         "type": "scatter",
         "x": [
          0
         ],
         "y": [
          1.453460107586381
         ]
        },
        {
         "mode": "markers",
         "type": "scatter",
         "x": [
          0
         ],
         "y": [
          2.9358719951931675
         ]
        },
        {
         "mode": "markers",
         "type": "scatter",
         "x": [
          0
         ],
         "y": [
          9.335690226576778
         ]
        },
        {
         "mode": "markers",
         "type": "scatter",
         "x": [
          0
         ],
         "y": [
          1.3922504301311194
         ]
        },
        {
         "mode": "markers",
         "type": "scatter",
         "x": [
          0
         ],
         "y": [
          0.5339165046066705
         ]
        },
        {
         "mode": "markers",
         "type": "scatter",
         "x": [
          0
         ],
         "y": [
          1.0325961617890638
         ]
        },
        {
         "mode": "markers",
         "type": "scatter",
         "x": [
          0
         ],
         "y": [
          3.1019312717600647
         ]
        },
        {
         "mode": "markers",
         "type": "scatter",
         "x": [
          0
         ],
         "y": [
          0.16195787188142105
         ]
        },
        {
         "mode": "markers",
         "type": "scatter",
         "x": [
          0
         ],
         "y": [
          0.8937518749993836
         ]
        },
        {
         "mode": "markers",
         "type": "scatter",
         "x": [
          0
         ],
         "y": [
          6.74906170957002
         ]
        },
        {
         "mode": "markers",
         "type": "scatter",
         "x": [
          0
         ],
         "y": [
          27.485937282384032
         ]
        },
        {
         "mode": "markers",
         "type": "scatter",
         "x": [
          0
         ],
         "y": [
          2.7641148217580356
         ]
        },
        {
         "mode": "markers",
         "type": "scatter",
         "x": [
          0
         ],
         "y": [
          4.594062984371099
         ]
        },
        {
         "mode": "markers",
         "type": "scatter",
         "x": [
          0
         ],
         "y": [
          3.5551207157404745
         ]
        },
        {
         "mode": "markers",
         "type": "scatter",
         "x": [
          0
         ],
         "y": [
          2.4926980328043307
         ]
        },
        {
         "mode": "markers",
         "type": "scatter",
         "x": [
          0
         ],
         "y": [
          2.6984823006905017
         ]
        },
        {
         "mode": "markers",
         "type": "scatter",
         "x": [
          0
         ],
         "y": [
          1.24739051821305
         ]
        },
        {
         "mode": "markers",
         "type": "scatter",
         "x": [
          0
         ],
         "y": [
          0.7971530850522884
         ]
        },
        {
         "mode": "markers",
         "type": "scatter",
         "x": [
          0
         ],
         "y": [
          0.5324067073857809
         ]
        },
        {
         "mode": "markers",
         "type": "scatter",
         "x": [
          0
         ],
         "y": [
          1.2896519090264529
         ]
        },
        {
         "mode": "markers",
         "type": "scatter",
         "x": [
          0
         ],
         "y": [
          8.478900270643104
         ]
        },
        {
         "mode": "markers",
         "type": "scatter",
         "x": [
          0
         ],
         "y": [
          0.8518495049887936
         ]
        },
        {
         "mode": "markers",
         "type": "scatter",
         "x": [
          0
         ],
         "y": [
          0.4772675670365852
         ]
        },
        {
         "mode": "markers",
         "type": "scatter",
         "x": [
          0
         ],
         "y": [
          2.0369601474750865
         ]
        },
        {
         "mode": "markers",
         "type": "scatter",
         "x": [
          0
         ],
         "y": [
          2.037398324844718
         ]
        },
        {
         "mode": "markers",
         "type": "scatter",
         "x": [
          0
         ],
         "y": [
          10.241010864664862
         ]
        },
        {
         "mode": "markers",
         "type": "scatter",
         "x": [
          0
         ],
         "y": [
          1.3808473492160922
         ]
        },
        {
         "mode": "markers",
         "type": "scatter",
         "x": [
          0
         ],
         "y": [
          7.103608633802321
         ]
        },
        {
         "mode": "markers",
         "type": "scatter",
         "x": [
          0
         ],
         "y": [
          5.608540851707767
         ]
        },
        {
         "mode": "markers",
         "type": "scatter",
         "x": [
          0
         ],
         "y": [
          26.52697706157082
         ]
        },
        {
         "mode": "markers",
         "type": "scatter",
         "x": [
          0
         ],
         "y": [
          3.6265944788457913
         ]
        },
        {
         "mode": "markers",
         "type": "scatter",
         "x": [
          0
         ],
         "y": [
          6.096034442680354
         ]
        },
        {
         "mode": "markers",
         "type": "scatter",
         "x": [
          0
         ],
         "y": [
          1.644728899169343
         ]
        },
        {
         "mode": "markers",
         "type": "scatter",
         "x": [
          0
         ],
         "y": [
          8.80147419209989
         ]
        },
        {
         "mode": "markers",
         "type": "scatter",
         "x": [
          0
         ],
         "y": [
          8.316108577380756
         ]
        },
        {
         "mode": "markers",
         "type": "scatter",
         "x": [
          0
         ],
         "y": [
          1.368970822253542
         ]
        },
        {
         "mode": "markers",
         "type": "scatter",
         "x": [
          0
         ],
         "y": [
          2.773125533769744
         ]
        },
        {
         "mode": "markers",
         "type": "scatter",
         "x": [
          0
         ],
         "y": [
          11.589862568980601
         ]
        },
        {
         "mode": "markers",
         "type": "scatter",
         "x": [
          0
         ],
         "y": [
          8.900626048712407
         ]
        },
        {
         "mode": "markers",
         "type": "scatter",
         "x": [
          0
         ],
         "y": [
          2.1316786580941685
         ]
        },
        {
         "mode": "markers",
         "type": "scatter",
         "x": [
          0
         ],
         "y": [
          3.3037016133183843
         ]
        },
        {
         "mode": "markers",
         "type": "scatter",
         "x": [
          0
         ],
         "y": [
          0.32428594608742844
         ]
        },
        {
         "mode": "markers",
         "type": "scatter",
         "x": [
          0
         ],
         "y": [
          0.2854138554069896
         ]
        },
        {
         "mode": "markers",
         "type": "scatter",
         "x": [
          0
         ],
         "y": [
          0.22278148820198665
         ]
        },
        {
         "mode": "markers",
         "type": "scatter",
         "x": [
          0
         ],
         "y": [
          1.3434388866599631
         ]
        },
        {
         "mode": "markers",
         "type": "scatter",
         "x": [
          0
         ],
         "y": [
          4.388013490701933
         ]
        },
        {
         "mode": "markers",
         "type": "scatter",
         "x": [
          0
         ],
         "y": [
          42.73925750004485
         ]
        },
        {
         "mode": "markers",
         "type": "scatter",
         "x": [
          0
         ],
         "y": [
          6.016459957673163
         ]
        },
        {
         "mode": "markers",
         "type": "scatter",
         "x": [
          0
         ],
         "y": [
          0.40363650967675246
         ]
        },
        {
         "mode": "markers",
         "type": "scatter",
         "x": [
          0
         ],
         "y": [
          0.6429030567339076
         ]
        },
        {
         "mode": "markers",
         "type": "scatter",
         "x": [
          0
         ],
         "y": [
          43.70089269322174
         ]
        },
        {
         "mode": "markers",
         "type": "scatter",
         "x": [
          0
         ],
         "y": [
          13.087461842544641
         ]
        },
        {
         "mode": "markers",
         "type": "scatter",
         "x": [
          0
         ],
         "y": [
          0.687078574112956
         ]
        },
        {
         "mode": "markers",
         "type": "scatter",
         "x": [
          0
         ],
         "y": [
          1.0290126583948747
         ]
        }
       ],
       "layout": {
        "template": {
         "data": {
          "bar": [
           {
            "error_x": {
             "color": "#2a3f5f"
            },
            "error_y": {
             "color": "#2a3f5f"
            },
            "marker": {
             "line": {
              "color": "#E5ECF6",
              "width": 0.5
             },
             "pattern": {
              "fillmode": "overlay",
              "size": 10,
              "solidity": 0.2
             }
            },
            "type": "bar"
           }
          ],
          "barpolar": [
           {
            "marker": {
             "line": {
              "color": "#E5ECF6",
              "width": 0.5
             },
             "pattern": {
              "fillmode": "overlay",
              "size": 10,
              "solidity": 0.2
             }
            },
            "type": "barpolar"
           }
          ],
          "carpet": [
           {
            "aaxis": {
             "endlinecolor": "#2a3f5f",
             "gridcolor": "white",
             "linecolor": "white",
             "minorgridcolor": "white",
             "startlinecolor": "#2a3f5f"
            },
            "baxis": {
             "endlinecolor": "#2a3f5f",
             "gridcolor": "white",
             "linecolor": "white",
             "minorgridcolor": "white",
             "startlinecolor": "#2a3f5f"
            },
            "type": "carpet"
           }
          ],
          "choropleth": [
           {
            "colorbar": {
             "outlinewidth": 0,
             "ticks": ""
            },
            "type": "choropleth"
           }
          ],
          "contour": [
           {
            "colorbar": {
             "outlinewidth": 0,
             "ticks": ""
            },
            "colorscale": [
             [
              0,
              "#0d0887"
             ],
             [
              0.1111111111111111,
              "#46039f"
             ],
             [
              0.2222222222222222,
              "#7201a8"
             ],
             [
              0.3333333333333333,
              "#9c179e"
             ],
             [
              0.4444444444444444,
              "#bd3786"
             ],
             [
              0.5555555555555556,
              "#d8576b"
             ],
             [
              0.6666666666666666,
              "#ed7953"
             ],
             [
              0.7777777777777778,
              "#fb9f3a"
             ],
             [
              0.8888888888888888,
              "#fdca26"
             ],
             [
              1,
              "#f0f921"
             ]
            ],
            "type": "contour"
           }
          ],
          "contourcarpet": [
           {
            "colorbar": {
             "outlinewidth": 0,
             "ticks": ""
            },
            "type": "contourcarpet"
           }
          ],
          "heatmap": [
           {
            "colorbar": {
             "outlinewidth": 0,
             "ticks": ""
            },
            "colorscale": [
             [
              0,
              "#0d0887"
             ],
             [
              0.1111111111111111,
              "#46039f"
             ],
             [
              0.2222222222222222,
              "#7201a8"
             ],
             [
              0.3333333333333333,
              "#9c179e"
             ],
             [
              0.4444444444444444,
              "#bd3786"
             ],
             [
              0.5555555555555556,
              "#d8576b"
             ],
             [
              0.6666666666666666,
              "#ed7953"
             ],
             [
              0.7777777777777778,
              "#fb9f3a"
             ],
             [
              0.8888888888888888,
              "#fdca26"
             ],
             [
              1,
              "#f0f921"
             ]
            ],
            "type": "heatmap"
           }
          ],
          "heatmapgl": [
           {
            "colorbar": {
             "outlinewidth": 0,
             "ticks": ""
            },
            "colorscale": [
             [
              0,
              "#0d0887"
             ],
             [
              0.1111111111111111,
              "#46039f"
             ],
             [
              0.2222222222222222,
              "#7201a8"
             ],
             [
              0.3333333333333333,
              "#9c179e"
             ],
             [
              0.4444444444444444,
              "#bd3786"
             ],
             [
              0.5555555555555556,
              "#d8576b"
             ],
             [
              0.6666666666666666,
              "#ed7953"
             ],
             [
              0.7777777777777778,
              "#fb9f3a"
             ],
             [
              0.8888888888888888,
              "#fdca26"
             ],
             [
              1,
              "#f0f921"
             ]
            ],
            "type": "heatmapgl"
           }
          ],
          "histogram": [
           {
            "marker": {
             "pattern": {
              "fillmode": "overlay",
              "size": 10,
              "solidity": 0.2
             }
            },
            "type": "histogram"
           }
          ],
          "histogram2d": [
           {
            "colorbar": {
             "outlinewidth": 0,
             "ticks": ""
            },
            "colorscale": [
             [
              0,
              "#0d0887"
             ],
             [
              0.1111111111111111,
              "#46039f"
             ],
             [
              0.2222222222222222,
              "#7201a8"
             ],
             [
              0.3333333333333333,
              "#9c179e"
             ],
             [
              0.4444444444444444,
              "#bd3786"
             ],
             [
              0.5555555555555556,
              "#d8576b"
             ],
             [
              0.6666666666666666,
              "#ed7953"
             ],
             [
              0.7777777777777778,
              "#fb9f3a"
             ],
             [
              0.8888888888888888,
              "#fdca26"
             ],
             [
              1,
              "#f0f921"
             ]
            ],
            "type": "histogram2d"
           }
          ],
          "histogram2dcontour": [
           {
            "colorbar": {
             "outlinewidth": 0,
             "ticks": ""
            },
            "colorscale": [
             [
              0,
              "#0d0887"
             ],
             [
              0.1111111111111111,
              "#46039f"
             ],
             [
              0.2222222222222222,
              "#7201a8"
             ],
             [
              0.3333333333333333,
              "#9c179e"
             ],
             [
              0.4444444444444444,
              "#bd3786"
             ],
             [
              0.5555555555555556,
              "#d8576b"
             ],
             [
              0.6666666666666666,
              "#ed7953"
             ],
             [
              0.7777777777777778,
              "#fb9f3a"
             ],
             [
              0.8888888888888888,
              "#fdca26"
             ],
             [
              1,
              "#f0f921"
             ]
            ],
            "type": "histogram2dcontour"
           }
          ],
          "mesh3d": [
           {
            "colorbar": {
             "outlinewidth": 0,
             "ticks": ""
            },
            "type": "mesh3d"
           }
          ],
          "parcoords": [
           {
            "line": {
             "colorbar": {
              "outlinewidth": 0,
              "ticks": ""
             }
            },
            "type": "parcoords"
           }
          ],
          "pie": [
           {
            "automargin": true,
            "type": "pie"
           }
          ],
          "scatter": [
           {
            "fillpattern": {
             "fillmode": "overlay",
             "size": 10,
             "solidity": 0.2
            },
            "type": "scatter"
           }
          ],
          "scatter3d": [
           {
            "line": {
             "colorbar": {
              "outlinewidth": 0,
              "ticks": ""
             }
            },
            "marker": {
             "colorbar": {
              "outlinewidth": 0,
              "ticks": ""
             }
            },
            "type": "scatter3d"
           }
          ],
          "scattercarpet": [
           {
            "marker": {
             "colorbar": {
              "outlinewidth": 0,
              "ticks": ""
             }
            },
            "type": "scattercarpet"
           }
          ],
          "scattergeo": [
           {
            "marker": {
             "colorbar": {
              "outlinewidth": 0,
              "ticks": ""
             }
            },
            "type": "scattergeo"
           }
          ],
          "scattergl": [
           {
            "marker": {
             "colorbar": {
              "outlinewidth": 0,
              "ticks": ""
             }
            },
            "type": "scattergl"
           }
          ],
          "scattermapbox": [
           {
            "marker": {
             "colorbar": {
              "outlinewidth": 0,
              "ticks": ""
             }
            },
            "type": "scattermapbox"
           }
          ],
          "scatterpolar": [
           {
            "marker": {
             "colorbar": {
              "outlinewidth": 0,
              "ticks": ""
             }
            },
            "type": "scatterpolar"
           }
          ],
          "scatterpolargl": [
           {
            "marker": {
             "colorbar": {
              "outlinewidth": 0,
              "ticks": ""
             }
            },
            "type": "scatterpolargl"
           }
          ],
          "scatterternary": [
           {
            "marker": {
             "colorbar": {
              "outlinewidth": 0,
              "ticks": ""
             }
            },
            "type": "scatterternary"
           }
          ],
          "surface": [
           {
            "colorbar": {
             "outlinewidth": 0,
             "ticks": ""
            },
            "colorscale": [
             [
              0,
              "#0d0887"
             ],
             [
              0.1111111111111111,
              "#46039f"
             ],
             [
              0.2222222222222222,
              "#7201a8"
             ],
             [
              0.3333333333333333,
              "#9c179e"
             ],
             [
              0.4444444444444444,
              "#bd3786"
             ],
             [
              0.5555555555555556,
              "#d8576b"
             ],
             [
              0.6666666666666666,
              "#ed7953"
             ],
             [
              0.7777777777777778,
              "#fb9f3a"
             ],
             [
              0.8888888888888888,
              "#fdca26"
             ],
             [
              1,
              "#f0f921"
             ]
            ],
            "type": "surface"
           }
          ],
          "table": [
           {
            "cells": {
             "fill": {
              "color": "#EBF0F8"
             },
             "line": {
              "color": "white"
             }
            },
            "header": {
             "fill": {
              "color": "#C8D4E3"
             },
             "line": {
              "color": "white"
             }
            },
            "type": "table"
           }
          ]
         },
         "layout": {
          "annotationdefaults": {
           "arrowcolor": "#2a3f5f",
           "arrowhead": 0,
           "arrowwidth": 1
          },
          "autotypenumbers": "strict",
          "coloraxis": {
           "colorbar": {
            "outlinewidth": 0,
            "ticks": ""
           }
          },
          "colorscale": {
           "diverging": [
            [
             0,
             "#8e0152"
            ],
            [
             0.1,
             "#c51b7d"
            ],
            [
             0.2,
             "#de77ae"
            ],
            [
             0.3,
             "#f1b6da"
            ],
            [
             0.4,
             "#fde0ef"
            ],
            [
             0.5,
             "#f7f7f7"
            ],
            [
             0.6,
             "#e6f5d0"
            ],
            [
             0.7,
             "#b8e186"
            ],
            [
             0.8,
             "#7fbc41"
            ],
            [
             0.9,
             "#4d9221"
            ],
            [
             1,
             "#276419"
            ]
           ],
           "sequential": [
            [
             0,
             "#0d0887"
            ],
            [
             0.1111111111111111,
             "#46039f"
            ],
            [
             0.2222222222222222,
             "#7201a8"
            ],
            [
             0.3333333333333333,
             "#9c179e"
            ],
            [
             0.4444444444444444,
             "#bd3786"
            ],
            [
             0.5555555555555556,
             "#d8576b"
            ],
            [
             0.6666666666666666,
             "#ed7953"
            ],
            [
             0.7777777777777778,
             "#fb9f3a"
            ],
            [
             0.8888888888888888,
             "#fdca26"
            ],
            [
             1,
             "#f0f921"
            ]
           ],
           "sequentialminus": [
            [
             0,
             "#0d0887"
            ],
            [
             0.1111111111111111,
             "#46039f"
            ],
            [
             0.2222222222222222,
             "#7201a8"
            ],
            [
             0.3333333333333333,
             "#9c179e"
            ],
            [
             0.4444444444444444,
             "#bd3786"
            ],
            [
             0.5555555555555556,
             "#d8576b"
            ],
            [
             0.6666666666666666,
             "#ed7953"
            ],
            [
             0.7777777777777778,
             "#fb9f3a"
            ],
            [
             0.8888888888888888,
             "#fdca26"
            ],
            [
             1,
             "#f0f921"
            ]
           ]
          },
          "colorway": [
           "#636efa",
           "#EF553B",
           "#00cc96",
           "#ab63fa",
           "#FFA15A",
           "#19d3f3",
           "#FF6692",
           "#B6E880",
           "#FF97FF",
           "#FECB52"
          ],
          "font": {
           "color": "#2a3f5f"
          },
          "geo": {
           "bgcolor": "white",
           "lakecolor": "white",
           "landcolor": "#E5ECF6",
           "showlakes": true,
           "showland": true,
           "subunitcolor": "white"
          },
          "hoverlabel": {
           "align": "left"
          },
          "hovermode": "closest",
          "mapbox": {
           "style": "light"
          },
          "paper_bgcolor": "white",
          "plot_bgcolor": "#E5ECF6",
          "polar": {
           "angularaxis": {
            "gridcolor": "white",
            "linecolor": "white",
            "ticks": ""
           },
           "bgcolor": "#E5ECF6",
           "radialaxis": {
            "gridcolor": "white",
            "linecolor": "white",
            "ticks": ""
           }
          },
          "scene": {
           "xaxis": {
            "backgroundcolor": "#E5ECF6",
            "gridcolor": "white",
            "gridwidth": 2,
            "linecolor": "white",
            "showbackground": true,
            "ticks": "",
            "zerolinecolor": "white"
           },
           "yaxis": {
            "backgroundcolor": "#E5ECF6",
            "gridcolor": "white",
            "gridwidth": 2,
            "linecolor": "white",
            "showbackground": true,
            "ticks": "",
            "zerolinecolor": "white"
           },
           "zaxis": {
            "backgroundcolor": "#E5ECF6",
            "gridcolor": "white",
            "gridwidth": 2,
            "linecolor": "white",
            "showbackground": true,
            "ticks": "",
            "zerolinecolor": "white"
           }
          },
          "shapedefaults": {
           "line": {
            "color": "#2a3f5f"
           }
          },
          "ternary": {
           "aaxis": {
            "gridcolor": "white",
            "linecolor": "white",
            "ticks": ""
           },
           "baxis": {
            "gridcolor": "white",
            "linecolor": "white",
            "ticks": ""
           },
           "bgcolor": "#E5ECF6",
           "caxis": {
            "gridcolor": "white",
            "linecolor": "white",
            "ticks": ""
           }
          },
          "title": {
           "x": 0.05
          },
          "xaxis": {
           "automargin": true,
           "gridcolor": "white",
           "linecolor": "white",
           "ticks": "",
           "title": {
            "standoff": 15
           },
           "zerolinecolor": "white",
           "zerolinewidth": 2
          },
          "yaxis": {
           "automargin": true,
           "gridcolor": "white",
           "linecolor": "white",
           "ticks": "",
           "title": {
            "standoff": 15
           },
           "zerolinecolor": "white",
           "zerolinewidth": 2
          }
         }
        },
        "title": {
         "text": "Reprojection Error Over Iterations"
        },
        "xaxis": {
         "title": {
          "text": "Iteration"
         }
        },
        "yaxis": {
         "title": {
          "text": "Reprojection Error"
         }
        }
       }
      }
     },
     "metadata": {},
     "output_type": "display_data"
    },
    {
     "name": "stdout",
     "output_type": "stream",
     "text": [
      "Processing Point Cloud...\n",
      "Incremental SFM for vercingetorix dataset completed!\n"
     ]
    }
   ],
   "source": [
    "\n",
    "# Input Camera Intrinsic Parameters\n",
    "K = np.array([[2393.952166119461, -3.410605131648481e-13, 932.3821770809047],\n",
    "              [0, 2398.118540286656, 628.2649953288065],\n",
    "              [0, 0, 1]])\n",
    "\n",
    "# Other parameters\n",
    "bundle_adjustment = False\n",
    "path = os.getcwd()\n",
    "img_dir = os.path.join(path, 'vercingetorix')\n",
    "\n",
    "sfm_pipeline(path, img_dir, K, bundle_adjustment)"
   ]
  },
  {
   "cell_type": "code",
   "execution_count": 21,
   "metadata": {},
   "outputs": [],
   "source": [
    "cloud = o3d.io.read_point_cloud(\"Point_Cloud/sparse_ptcloud.ply\") # Read point cloud\n",
    "o3d.visualization.draw_geometries([cloud])    # Visualize point cloud      \n"
   ]
  },
  {
   "cell_type": "markdown",
   "metadata": {},
   "source": [
    "### see the point cloud file sparse_ptcloud.ply in meshlab for a 3d point cloud of the 3d Reconstruction"
   ]
  },
  {
   "cell_type": "markdown",
   "metadata": {},
   "source": [
    "![point cloud](pointcloud.png)\n"
   ]
  }
 ],
 "metadata": {
  "kernelspec": {
   "display_name": "sfm",
   "language": "python",
   "name": "python3"
  },
  "language_info": {
   "codemirror_mode": {
    "name": "ipython",
    "version": 3
   },
   "file_extension": ".py",
   "mimetype": "text/x-python",
   "name": "python",
   "nbconvert_exporter": "python",
   "pygments_lexer": "ipython3",
   "version": "3.8.18"
  }
 },
 "nbformat": 4,
 "nbformat_minor": 2
}
