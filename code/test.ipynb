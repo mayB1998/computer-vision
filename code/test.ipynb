{
 "cells": [
  {
   "cell_type": "code",
   "execution_count": 1,
   "metadata": {},
   "outputs": [],
   "source": [
    "import pandas as pd\n",
    "import numpy as np"
   ]
  },
  {
   "cell_type": "code",
   "execution_count": 6,
   "metadata": {},
   "outputs": [],
   "source": [
    "def import_ground_truth(poses_path):\n",
    "    \"\"\"\n",
    "    Import ground truth poses\n",
    "\n",
    "    Parameters\n",
    "    ----------\n",
    "        poses_path (str): The relative path to the ground truth poses file directory\n",
    "\n",
    "    Returns\n",
    "    -------\n",
    "        ground_truth (np.array): Ground truth poses\n",
    "    \"\"\"\n",
    "    poses = pd.read_csv(poses_path, delimiter=' ', header = None)\n",
    "\n",
    "    ground_truth = np.zeros((len(poses),3,4))\n",
    "    for i in range(len(poses)):\n",
    "        ground_truth[i] = np.array(poses.iloc[i]).reshape((3,4))\n",
    "\n",
    "    return ground_truth\n",
    "poses_path = r'D:\\Datasets\\data_odometry_poses\\dataset\\poses\\09.txt'\n",
    "poses = import_ground_truth(poses_path)"
   ]
  },
  {
   "cell_type": "code",
   "execution_count": 8,
   "metadata": {},
   "outputs": [
    {
     "data": {
      "text/plain": [
       "array([[[ 1.000000e+00,  1.197625e-11,  1.704638e-10,  5.551115e-17],\n",
       "        [ 1.197625e-11,  1.000000e+00,  3.562503e-10,  0.000000e+00],\n",
       "        [ 1.704638e-10,  3.562503e-10,  1.000000e+00,  2.220446e-16]],\n",
       "\n",
       "       [[ 9.999268e-01, -3.092411e-03,  1.169425e-02,  2.138869e-02],\n",
       "        [ 3.079219e-03,  9.999946e-01,  1.146026e-03, -8.456433e-03],\n",
       "        [-1.169773e-02, -1.109933e-03,  9.999310e-01,  2.880714e-01]],\n",
       "\n",
       "       [[ 9.998143e-01, -5.167713e-03,  1.856600e-02,  3.879027e-02],\n",
       "        [ 5.141246e-03,  9.999857e-01,  1.473072e-03, -1.513783e-02],\n",
       "        [-1.857335e-02, -1.377345e-03,  9.998266e-01,  5.807338e-01]],\n",
       "\n",
       "       ...,\n",
       "\n",
       "       [[ 9.581635e-01, -1.409210e-02, -2.858744e-01, -2.549688e+00],\n",
       "        [ 1.329121e-02,  9.999004e-01, -4.741749e-03,  3.071295e+00],\n",
       "        [ 2.859128e-01,  7.437561e-04,  9.582554e-01,  6.841526e+00]],\n",
       "\n",
       "       [[ 9.549924e-01, -1.561857e-02, -2.962188e-01, -2.775305e+00],\n",
       "        [ 1.332215e-02,  9.998635e-01, -9.769438e-03,  3.058171e+00],\n",
       "        [ 2.963310e-01,  5.383469e-03,  9.550701e-01,  7.528465e+00]],\n",
       "\n",
       "       [[ 9.519238e-01, -1.898118e-02, -3.057463e-01, -3.006582e+00],\n",
       "        [ 1.575551e-02,  9.997911e-01, -1.301464e-02,  3.045729e+00],\n",
       "        [ 3.059295e-01,  7.571755e-03,  9.520241e-01,  8.222648e+00]]])"
      ]
     },
     "execution_count": 8,
     "metadata": {},
     "output_type": "execute_result"
    }
   ],
   "source": [
    "poses"
   ]
  }
 ],
 "metadata": {
  "kernelspec": {
   "display_name": "base",
   "language": "python",
   "name": "python3"
  },
  "language_info": {
   "codemirror_mode": {
    "name": "ipython",
    "version": 3
   },
   "file_extension": ".py",
   "mimetype": "text/x-python",
   "name": "python",
   "nbconvert_exporter": "python",
   "pygments_lexer": "ipython3",
   "version": "3.11.5"
  }
 },
 "nbformat": 4,
 "nbformat_minor": 2
}
